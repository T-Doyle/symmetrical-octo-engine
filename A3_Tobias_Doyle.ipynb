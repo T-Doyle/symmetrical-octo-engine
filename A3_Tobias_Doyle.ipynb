{
 "cells": [
  {
   "cell_type": "code",
   "execution_count": 1,
   "metadata": {},
   "outputs": [],
   "source": [
    "from selenium import webdriver\n",
    "import pandas as pd"
   ]
  },
  {
   "cell_type": "code",
   "execution_count": 2,
   "metadata": {},
   "outputs": [],
   "source": [
    "# Get forum topics\n",
    "driver = webdriver.Chrome('C:\\Program Files (x86)\\Google\\Chrome\\chromedriver')\n",
    "driver.get('https://www.maintenance.org/forum/posts-about-root-cause-analysis')\n",
    "driver.implicitly_wait(64)\n",
    "\n",
    "topics = driver.find_elements_by_class_name('h-topic-extract-title')\n",
    "topic_names = []\n",
    "    \n",
    "for i in topics:\n",
    "    topic_names.append(i.find_element_by_css_selector('a').get_attribute('href')) "
   ]
  },
  {
   "cell_type": "code",
   "execution_count": 3,
   "metadata": {},
   "outputs": [
    {
     "name": "stdout",
     "output_type": "stream",
     "text": [
      "['https://www.maintenance.org/topic/type-of-bearing-failure', 'https://www.maintenance.org/topic/bearing-current-damage-on-nde-bearing-due-to-bearing-current', 'https://www.maintenance.org/topic/is-bearing-having-fluting-marks', 'https://www.maintenance.org/topic/reciprocating-compressor-liner-failure', 'https://www.maintenance.org/topic/gear-failure-at-screw-pump', 'https://www.maintenance.org/topic/vfd-failure', 'https://www.maintenance.org/topic/complet-root-cause-analysis-on-a-wheel-loader', 'https://www.maintenance.org/topic/steam-path-audit', 'https://www.maintenance.org/topic/catastrophic-failure-2', 'https://www.maintenance.org/topic/reference-for-root-cause-analysis', 'https://www.maintenance.org/topic/broken-gear-shaft', 'https://www.maintenance.org/topic/gas-turbine-bearing-failure-lube-oil-leakage-caught-fire', 'https://www.maintenance.org/topic/mechanical-seal-failure-1', 'https://www.maintenance.org/topic/firewater-pumps-pandid-and-network-over-pressure-protection', 'https://www.maintenance.org/topic/failure-of-synchronous-motor-to-start-up-on-no-load', 'https://www.maintenance.org/topic/gas-turbine-tilted-pad-journal-bearing-failure', 'https://www.maintenance.org/topic/3309-a-c3-bearing-premature-failure', 'https://www.maintenance.org/topic/dry-gas-seal-failures', 'https://www.maintenance.org/topic/motor-triping-issue', 'https://www.maintenance.org/topic/repetitive-inner-race-defect-in-motor-de-bearing', 'https://www.maintenance.org/topic/vibration-at-5x-nde-and-de-v-for-centrifugal-pump', 'https://www.maintenance.org/topic/high-vibration-on-bearing-2-and-3-on-gas-turbine-frame-9e-100-mw', 'https://www.maintenance.org/topic/carbon-ring-seal-used-for-integrally-geared-centrifugal-compressor', 'https://www.maintenance.org/topic/1x-ac-line-frequency-excitation-in-motor', 'https://www.maintenance.org/topic/primary-air-fan-high-vibration-in-motor-de-brg']\n"
     ]
    }
   ],
   "source": [
    "print(topic_names)"
   ]
  },
  {
   "cell_type": "code",
   "execution_count": 7,
   "metadata": {},
   "outputs": [],
   "source": [
    "def extract_data(comments):\n",
    "    #xpath //*[@id=\"post_body_460827630053833370\"] \n",
    "    posts = driver.find_elements_by_xpath(\"//*[contains(@id, 'post_body_')]\") \n",
    "    post_ids = []\n",
    "        \n",
    "    for post in posts:\n",
    "        post_ids.append(post.get_attribute('id')) \n",
    "    \n",
    "    # Remove post_body_ from each id and convert back to string\n",
    "    post_ids = list(map(lambda sub:int(''.join( \n",
    "      [element for element in sub if element.isnumeric()])), post_ids)) \n",
    "        \n",
    "    for x in post_ids:\n",
    "        try: \n",
    "            #Extract Topic\n",
    "            # xpath //*[@id=\"pageTitle\"]\n",
    "            page_topic = driver.find_element_by_xpath('//*[@id=\"pageTitle\"]')\n",
    "            topic = page_topic.text\n",
    "            \n",
    "            #Extract Dates from each User in Topic\n",
    "            # xpath //*[@id=\"460686892548839591\"]/div[1]/div/div[2]/time\n",
    "            user_date = driver.find_element_by_xpath('//*[@id=\"'+ str(x) +'\"]/div[1]/div/div[2]/time') \n",
    "            date = user_date.get_attribute('datetime')\n",
    "\n",
    "            #Extract User IDs for each User in Topic\n",
    "            # xpath //*[@id=\"460686892548839591\"]/div[1]/div/div[1]/a\n",
    "            userid_element = driver.find_element_by_xpath('//*[@id=\"'+ str(x) +'\"]/div[1]/div/div[1]/a')\n",
    "            userid = userid_element.text\n",
    "            #topics = driver.find_elements_by_class_name('h-topic-extract-title')\n",
    "            #topic_names.append(i.find_element_by_css_selector('a').get_attribute('href')) \n",
    "\n",
    "            #Extract Comments from each User in Topic\n",
    "            # xpath //*[@id=\"post_body_460686892553114974\"]\n",
    "            # xpath //*[@id=\"post_body_460686892548839591\"]/p\n",
    "            post = \"\"\n",
    "            user_message = driver.find_elements_by_xpath('//*[@id=\"post_body_'+ str(x) +'\"]')\n",
    "            for message in user_message:\n",
    "                try:\n",
    "                    post += str(message.text)\n",
    "                except:\n",
    "                    continue       \n",
    "                    \n",
    "            #Adding date, userid and comment for each user in a dataframe\n",
    "            comments.loc[len(comments)] = [topic,date,userid,post]\n",
    "            \n",
    "        except:\n",
    "            continue\n",
    "    return(comments)\n",
    "            "
   ]
  },
  {
   "cell_type": "code",
   "execution_count": 8,
   "metadata": {},
   "outputs": [],
   "source": [
    "# Create comments data frame\n",
    "comments = pd.DataFrame(columns = ['topic','date','userid','post'])\n",
    "\n",
    "# Crawl through topics to extract comments\n",
    "for topic in topic_names:\n",
    "    url = str(topic)\n",
    "    \n",
    "    driver = webdriver.Chrome(executable_path='C:\\Program Files (x86)\\Google\\Chrome\\chromedriver') \n",
    "    try:\n",
    "        driver.get(url)\n",
    "        driver.implicitly_wait(64)\n",
    "        comments = extract_data(comments)   \n",
    "                \n",
    "    except:\n",
    "        driver.quit()\n",
    "        raise\n",
    "        \n",
    "# Save comments to CSV file\n",
    "comments.to_csv ('comments.csv', index = None, header=True)\n",
    "\n",
    "driver.quit()\n"
   ]
  }
 ],
 "metadata": {
  "kernelspec": {
   "display_name": "Python 3",
   "language": "python",
   "name": "python3"
  },
  "language_info": {
   "codemirror_mode": {
    "name": "ipython",
    "version": 3
   },
   "file_extension": ".py",
   "mimetype": "text/x-python",
   "name": "python",
   "nbconvert_exporter": "python",
   "pygments_lexer": "ipython3",
   "version": "3.6.5"
  }
 },
 "nbformat": 4,
 "nbformat_minor": 2
}
